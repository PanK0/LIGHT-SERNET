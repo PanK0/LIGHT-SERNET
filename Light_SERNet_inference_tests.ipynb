{
  "nbformat": 4,
  "nbformat_minor": 0,
  "metadata": {
    "colab": {
      "name": "Light-SERNet inference tests.ipynb",
      "provenance": [],
      "collapsed_sections": []
    },
    "kernelspec": {
      "name": "python3",
      "display_name": "Python 3"
    },
    "language_info": {
      "name": "python"
    },
    "accelerator": "GPU"
  },
  "cells": [
    {
      "cell_type": "code",
      "execution_count": 1,
      "metadata": {
        "id": "_i_LBBK1lmar"
      },
      "outputs": [],
      "source": [
        "from IPython.display import clear_output"
      ]
    },
    {
      "cell_type": "code",
      "source": [
        "!git clone https://github.com/PanK0/LIGHT-SERNET.git"
      ],
      "metadata": {
        "colab": {
          "base_uri": "https://localhost:8080/"
        },
        "id": "e-DbEfyPpfvc",
        "outputId": "3d044412-253c-4828-ace4-49bc619d7a5a"
      },
      "execution_count": 2,
      "outputs": [
        {
          "output_type": "stream",
          "name": "stdout",
          "text": [
            "Cloning into 'LIGHT-SERNET'...\n",
            "remote: Enumerating objects: 395, done.\u001b[K\n",
            "remote: Counting objects: 100% (78/78), done.\u001b[K\n",
            "remote: Compressing objects: 100% (15/15), done.\u001b[K\n",
            "remote: Total 395 (delta 73), reused 63 (delta 63), pack-reused 317\u001b[K\n",
            "Receiving objects: 100% (395/395), 5.06 MiB | 31.63 MiB/s, done.\n",
            "Resolving deltas: 100% (224/224), done.\n"
          ]
        }
      ]
    },
    {
      "cell_type": "code",
      "source": [
        "import os\n",
        "\n",
        "os.chdir(\"/content/LIGHT-SERNET\")"
      ],
      "metadata": {
        "id": "b6SP4Lyjnz9F"
      },
      "execution_count": 3,
      "outputs": []
    },
    {
      "cell_type": "markdown",
      "source": [
        "Here are listed all the file proposed for inference tests.\n",
        "Except for the four files named\n",
        "\n",
        "\n",
        "*   `EMO-DB_3.0s_Segmented_cross_entropy_float32.tflite`\n",
        "*   `EMO-DB_3.0s_Segmented_cross_entropy_Report.txt`\n",
        "*   `EMO-DB_3.0s_Segmented_cross_entropy_TotalConfusionMatrixNormalized.pdf`\n",
        "*   `EMO-DB_3.0s_Segmented_cross_entropy_TotalConfusionMatrix.pdf`\n",
        "\n",
        "the other files contain in the name some information like\n",
        "\n",
        "\n",
        "*   The **label** of the audio file\n",
        "*   Whether the file **belongs to the EMO-DB Dataset** (simply named with `dataset`)\n",
        "*   Whether the file is a **phrase from the dataset** but it has been recorded by me from a german speaker (simply named with `rec`)\n",
        "*   Whether the file is **NOT a phrase from the dataset** and it has been recorded by me from a german speaker (simply named with `external`)\n",
        "\n",
        "**! ! ! PLEASE CAREFUL :** audio tagged with `rec` and `external` are recorded by me with non-professional instruments with two german speakers that are **NOT ACTRESSES**, so the classification of the content may encounter some impediments.\n",
        "\n",
        "\n",
        "\n",
        "\n",
        "\n"
      ],
      "metadata": {
        "id": "X1BhWmvnjzL6"
      }
    },
    {
      "cell_type": "code",
      "source": [
        "os.chdir(\"/content/LIGHT-SERNET/inference_tests\")\n",
        "!echo \"Operating in directory: LIGHT-SERNET/inference_tests\"\n",
        "!echo \" \"\n",
        "!ls\n",
        "os.chdir(\"/content/LIGHT-SERNET\")"
      ],
      "metadata": {
        "colab": {
          "base_uri": "https://localhost:8080/"
        },
        "id": "tgAW4vNcjfNN",
        "outputId": "ca6a50c1-350d-4cf3-f5a3-4f7ad7f66233"
      },
      "execution_count": 9,
      "outputs": [
        {
          "output_type": "stream",
          "name": "stdout",
          "text": [
            "Operating in directory: LIGHT-SERNET/inference_tests\n",
            " \n",
            "anger_dataset_2.wav\n",
            "anger_dataset.wav\n",
            "anger_external.wav\n",
            "anger_rec_2.wav\n",
            "anger_rec.wav\n",
            "anxiety_fear_dataset_2.wav\n",
            "anxiety_fear_dataset.wav\n",
            "anxiety_fear_rec_2.wav\n",
            "anxiety_fear.wav\n",
            "boredom_dataset_2.wav\n",
            "boredom_dataset.wav\n",
            "boredom_rec.wav\n",
            "disgust_dataset.wav\n",
            "disgust_rec.wav\n",
            "EMO-DB_3.0s_Segmented_cross_entropy_float32.tflite\n",
            "EMO-DB_3.0s_Segmented_cross_entropy_Report.txt\n",
            "EMO-DB_3.0s_Segmented_cross_entropy_TotalConfusionMatrixNormalized.pdf\n",
            "EMO-DB_3.0s_Segmented_cross_entropy_TotalConfusionMatrix.pdf\n",
            "happiness_dataset.wav\n",
            "happiness_external.wav\n",
            "happiness_rec_2.wav\n",
            "happiness_rec.wav\n",
            "sadness_dataset.wav\n",
            "sadness_external_2.wav\n",
            "sadness_external.wav\n",
            "segmented_anger_dataset_2.wav\n",
            "segmented_happiness_dataset.wav\n"
          ]
        }
      ]
    },
    {
      "cell_type": "markdown",
      "source": [
        "To make inference on a file just run the following line by changing the name of the file you want to classify.\n",
        "\n",
        "The files listed above are the files present in the `inference_tests/` folder of the project.\n",
        "\n",
        "The used model is also present in that folder with the name `EMO-DB_3.0s_Segmented_cross_entropy_float32.tflite`. \n",
        "To change the model train again the Neural Network and then modify the model path in the variable `model_path` in the code in `inference_single_file.py`.\n",
        "\n",
        "**! ! ! PLEASE CAREFUL:** if you train a new model, the classes will be mixed, and so you'll have to reassign the correct correspondend classes in the dictionary."
      ],
      "metadata": {
        "id": "CF_l55kjmI84"
      }
    },
    {
      "cell_type": "code",
      "source": [
        "!python inference_single_file.py -id 3 -at \"all\" -ln \"cross_entropy\" -it \"mfcc\" -fn \"anger_rec.wav\""
      ],
      "metadata": {
        "colab": {
          "base_uri": "https://localhost:8080/"
        },
        "id": "xW2EhYWK0oQj",
        "outputId": "84d19833-ef58-404a-f191-65755cf43454"
      },
      "execution_count": 18,
      "outputs": [
        {
          "output_type": "stream",
          "name": "stdout",
          "text": [
            "2022-05-19 09:23:52.525350: E tensorflow/stream_executor/cuda/cuda_driver.cc:271] failed call to cuInit: CUDA_ERROR_NO_DEVICE: no CUDA-capable device is detected\n",
            "INFO: Created TensorFlow Lite XNNPACK delegate for CPU.\n",
            "\n",
            "****** RESULT ******\n",
            "Happiness\n"
          ]
        }
      ]
    },
    {
      "cell_type": "code",
      "source": [
        "os.chdir(\"/content\")"
      ],
      "metadata": {
        "id": "TSmdNok-B-5v"
      },
      "execution_count": 19,
      "outputs": []
    },
    {
      "cell_type": "code",
      "source": [
        "!ls"
      ],
      "metadata": {
        "colab": {
          "base_uri": "https://localhost:8080/"
        },
        "id": "5i8PxGQOCpcD",
        "outputId": "457f9227-4c60-4aed-d150-91453916c37f"
      },
      "execution_count": 20,
      "outputs": [
        {
          "output_type": "stream",
          "name": "stdout",
          "text": [
            "LIGHT-SERNET  sample_data\n"
          ]
        }
      ]
    },
    {
      "cell_type": "code",
      "source": [
        "!rm -r LIGHT-SERNET"
      ],
      "metadata": {
        "id": "jsjfKEKOCDqM"
      },
      "execution_count": 21,
      "outputs": []
    }
  ]
}